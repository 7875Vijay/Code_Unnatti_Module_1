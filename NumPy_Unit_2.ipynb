{
 "cells": [
  {
   "cell_type": "raw",
   "id": "3b8e5b09",
   "metadata": {},
   "source": [
    "Module : 1\n",
    "Unit   : 2_Numpy\n",
    "Date   : 23/08/2022\n",
    "\n"
   ]
  },
  {
   "cell_type": "markdown",
   "id": "66bf0395",
   "metadata": {},
   "source": [
    "# NumPy"
   ]
  },
  {
   "cell_type": "code",
   "execution_count": 1,
   "id": "8e1fab42",
   "metadata": {},
   "outputs": [],
   "source": [
    "import numpy as np #importing numpy lib"
   ]
  },
  {
   "cell_type": "code",
   "execution_count": 2,
   "id": "579eb586",
   "metadata": {},
   "outputs": [
    {
     "data": {
      "text/plain": [
       "array([[1, 2, 3, 4],\n",
       "       [5, 9, 8, 7],\n",
       "       [7, 5, 1, 3]])"
      ]
     },
     "execution_count": 2,
     "metadata": {},
     "output_type": "execute_result"
    }
   ],
   "source": [
    "arr1 = np.array([[1,2,3,4], [5,9,8,7],[7,5,1,3]]) # creating the ndim array\n",
    "arr1"
   ]
  },
  {
   "cell_type": "code",
   "execution_count": 3,
   "id": "0cea7d9f",
   "metadata": {},
   "outputs": [
    {
     "name": "stdout",
     "output_type": "stream",
     "text": [
      "12\n"
     ]
    }
   ],
   "source": [
    "print(np.size(arr1)) # printing the size of the array"
   ]
  },
  {
   "cell_type": "code",
   "execution_count": 4,
   "id": "cb323f14",
   "metadata": {},
   "outputs": [
    {
     "name": "stdout",
     "output_type": "stream",
     "text": [
      "2\n"
     ]
    }
   ],
   "source": [
    "print(arr1.ndim) # printitng the dimentions of the array"
   ]
  },
  {
   "cell_type": "code",
   "execution_count": 5,
   "id": "5fa0e648",
   "metadata": {},
   "outputs": [
    {
     "name": "stdout",
     "output_type": "stream",
     "text": [
      "(3, 4)\n"
     ]
    }
   ],
   "source": [
    "print(arr1.shape) # printing the dimentions"
   ]
  },
  {
   "cell_type": "code",
   "execution_count": 6,
   "id": "81518eba",
   "metadata": {},
   "outputs": [
    {
     "name": "stdout",
     "output_type": "stream",
     "text": [
      "<memory at 0x000001FEAEDA3BA0>\n"
     ]
    }
   ],
   "source": [
    "print(arr1.data) # memory location of the array"
   ]
  },
  {
   "cell_type": "markdown",
   "id": "88a6e4cf",
   "metadata": {},
   "source": [
    "# Statistical Function:"
   ]
  },
  {
   "cell_type": "raw",
   "id": "11424fd2",
   "metadata": {},
   "source": [
    "i = row\n",
    "j = col"
   ]
  },
  {
   "cell_type": "code",
   "execution_count": 7,
   "id": "b2baa50f",
   "metadata": {},
   "outputs": [
    {
     "data": {
      "text/plain": [
       "array([[1, 2, 3, 4],\n",
       "       [5, 9, 8, 7],\n",
       "       [7, 5, 1, 3]])"
      ]
     },
     "execution_count": 7,
     "metadata": {},
     "output_type": "execute_result"
    }
   ],
   "source": [
    "arr = np.array([[1,2,3,4], [5,9,8,7],[7,5,1,3]]) # creating the ndim array\n",
    "arr"
   ]
  },
  {
   "cell_type": "code",
   "execution_count": 8,
   "id": "d383c69f",
   "metadata": {},
   "outputs": [
    {
     "data": {
      "text/plain": [
       "dtype('int32')"
      ]
     },
     "execution_count": 8,
     "metadata": {},
     "output_type": "execute_result"
    }
   ],
   "source": [
    "arr.dtype  # data type of the aray"
   ]
  },
  {
   "cell_type": "code",
   "execution_count": 9,
   "id": "3bde6a40",
   "metadata": {},
   "outputs": [
    {
     "data": {
      "text/plain": [
       "4"
      ]
     },
     "execution_count": 9,
     "metadata": {},
     "output_type": "execute_result"
    }
   ],
   "source": [
    "arr.itemsize # item size of the array"
   ]
  },
  {
   "cell_type": "code",
   "execution_count": 10,
   "id": "8412c749",
   "metadata": {},
   "outputs": [
    {
     "data": {
      "text/plain": [
       "(3, 4)"
      ]
     },
     "execution_count": 10,
     "metadata": {},
     "output_type": "execute_result"
    }
   ],
   "source": [
    "arr.shape # shape of the array"
   ]
  },
  {
   "cell_type": "code",
   "execution_count": 11,
   "id": "1637af68",
   "metadata": {},
   "outputs": [
    {
     "data": {
      "text/plain": [
       "12"
      ]
     },
     "execution_count": 11,
     "metadata": {},
     "output_type": "execute_result"
    }
   ],
   "source": [
    "arr.size # total number of the elements present in the array"
   ]
  },
  {
   "cell_type": "code",
   "execution_count": 12,
   "id": "dd2a19a6",
   "metadata": {},
   "outputs": [
    {
     "data": {
      "text/plain": [
       "array([[1., 2., 3., 4.],\n",
       "       [5., 9., 8., 7.],\n",
       "       [7., 5., 1., 3.]])"
      ]
     },
     "execution_count": 12,
     "metadata": {},
     "output_type": "execute_result"
    }
   ],
   "source": [
    "# changing the datatype of the array:\n",
    "arr = np.array([[1,2,3,4], [5,9,8,7],[7,5,1,3]], dtype = np.float64) # creating the ndim array with float64 byte data\n",
    "arr"
   ]
  },
  {
   "cell_type": "code",
   "execution_count": 13,
   "id": "c3211887",
   "metadata": {},
   "outputs": [
    {
     "data": {
      "text/plain": [
       "array([[1.+0.j, 2.+0.j, 3.+0.j, 4.+0.j],\n",
       "       [5.+0.j, 9.+0.j, 8.+0.j, 7.+0.j],\n",
       "       [7.+0.j, 5.+0.j, 1.+0.j, 3.+0.j]], dtype=complex64)"
      ]
     },
     "execution_count": 13,
     "metadata": {},
     "output_type": "execute_result"
    }
   ],
   "source": [
    "# creating the complax array:\n",
    "arr = np.array([[1,2,3,4], [5,9,8,7],[7,5,1,3]], dtype = np.complex64) # creating the ndim array\n",
    "arr"
   ]
  },
  {
   "cell_type": "code",
   "execution_count": 14,
   "id": "e55b4dd4",
   "metadata": {},
   "outputs": [
    {
     "data": {
      "text/plain": [
       "array([[1.+0.j, 2.+0.j, 3.+0.j, 4.+0.j],\n",
       "       [5.+0.j, 9.+0.j, 8.+0.j, 7.+0.j],\n",
       "       [7.+0.j, 5.+0.j, 1.+0.j, 3.+0.j]])"
      ]
     },
     "execution_count": 14,
     "metadata": {},
     "output_type": "execute_result"
    }
   ],
   "source": [
    "arr = np.array([[1,2,3,4], [5,9,8,7],[7,5,1,3]], dtype = np.complex128) # creating the ndim array\n",
    "arr"
   ]
  },
  {
   "cell_type": "code",
   "execution_count": 15,
   "id": "8f6ed256",
   "metadata": {},
   "outputs": [
    {
     "data": {
      "text/plain": [
       "55"
      ]
     },
     "execution_count": 15,
     "metadata": {},
     "output_type": "execute_result"
    }
   ],
   "source": [
    "# sum of the elements present in the array\n",
    "b = np.array([[1,2,3,4], [5,9,8,7],[7,5,1,3]])\n",
    "np.sum(b)"
   ]
  },
  {
   "cell_type": "code",
   "execution_count": 16,
   "id": "60cd6230",
   "metadata": {},
   "outputs": [
    {
     "name": "stdout",
     "output_type": "stream",
     "text": [
      "[13 16 12 14]\n",
      "[10 29 16]\n"
     ]
    }
   ],
   "source": [
    "# axis vise sum:\n",
    "print(np.sum(b, axis = 0)) # columns\n",
    "print(np.sum(b, axis = 1)) # rows"
   ]
  },
  {
   "cell_type": "code",
   "execution_count": 17,
   "id": "79fa6e45",
   "metadata": {},
   "outputs": [
    {
     "name": "stdout",
     "output_type": "stream",
     "text": [
      "[[1 2 3 4]\n",
      " [5 9 8 7]\n",
      " [7 5 1 3]]\n"
     ]
    },
    {
     "data": {
      "text/plain": [
       "1"
      ]
     },
     "execution_count": 17,
     "metadata": {},
     "output_type": "execute_result"
    }
   ],
   "source": [
    "# minimum value:\n",
    "print(b)\n",
    "np.amin(b)"
   ]
  },
  {
   "cell_type": "code",
   "execution_count": 18,
   "id": "e8dc2fc7",
   "metadata": {},
   "outputs": [
    {
     "name": "stdout",
     "output_type": "stream",
     "text": [
      "[1 2 1 3]\n",
      "[1 5 1]\n"
     ]
    }
   ],
   "source": [
    "print(np.amin(b, axis = 0)) # minimum of each column\n",
    "print(np.amin(b, axis = 1)) # minimum of each row"
   ]
  },
  {
   "cell_type": "code",
   "execution_count": 19,
   "id": "c6615a8f",
   "metadata": {},
   "outputs": [
    {
     "name": "stdout",
     "output_type": "stream",
     "text": [
      "9\n"
     ]
    }
   ],
   "source": [
    "#maximum value:\n",
    "print(np.amax(b)) # overall max value of the ndArray"
   ]
  },
  {
   "cell_type": "code",
   "execution_count": 20,
   "id": "e576af99",
   "metadata": {},
   "outputs": [
    {
     "name": "stdout",
     "output_type": "stream",
     "text": [
      "[7 9 8 7]\n",
      "[4 9 7]\n"
     ]
    }
   ],
   "source": [
    "print(np.amax(b, axis = 0))# maximum of each column\n",
    "print(np.amax(b, axis = 1)) # maximum of each row"
   ]
  },
  {
   "cell_type": "code",
   "execution_count": 21,
   "id": "12f14c8e",
   "metadata": {},
   "outputs": [
    {
     "name": "stdout",
     "output_type": "stream",
     "text": [
      "4.583333333333333\n"
     ]
    }
   ],
   "source": [
    "# Mean:\n",
    "\n",
    "print(np.mean(b)) # printing the mean of the nd array:"
   ]
  },
  {
   "cell_type": "code",
   "execution_count": 22,
   "id": "b743f275",
   "metadata": {},
   "outputs": [
    {
     "name": "stdout",
     "output_type": "stream",
     "text": [
      "[4.33333333 5.33333333 4.         4.66666667]\n",
      "[2.5  7.25 4.  ]\n"
     ]
    }
   ],
   "source": [
    "print(np.mean(b, axis = 0)) # along the column\n",
    "print(np.mean(b, axis = 1)) # along the Row"
   ]
  },
  {
   "cell_type": "code",
   "execution_count": 23,
   "id": "ccf1b1f5",
   "metadata": {},
   "outputs": [
    {
     "name": "stdout",
     "output_type": "stream",
     "text": [
      "4.5\n"
     ]
    }
   ],
   "source": [
    "# Median:\n",
    "\n",
    "print(np.median(b)) # printing the median of the axis:"
   ]
  },
  {
   "cell_type": "code",
   "execution_count": 24,
   "id": "38f59824",
   "metadata": {},
   "outputs": [
    {
     "name": "stdout",
     "output_type": "stream",
     "text": [
      "[5. 5. 3. 4.]\n",
      "[2.5 7.5 4. ]\n"
     ]
    }
   ],
   "source": [
    "print(np.median(b, axis = 0)) # along the column\n",
    "print(np.median(b, axis = 1)) # along the Row"
   ]
  },
  {
   "cell_type": "code",
   "execution_count": 25,
   "id": "7cb51a81",
   "metadata": {},
   "outputs": [
    {
     "name": "stdout",
     "output_type": "stream",
     "text": [
      "2.5967394084804805\n"
     ]
    }
   ],
   "source": [
    "# Standard Daviation:\n",
    "\n",
    "print(np.std(b)) # overall standared daviation of the array:"
   ]
  },
  {
   "cell_type": "code",
   "execution_count": 26,
   "id": "00a62b52",
   "metadata": {},
   "outputs": [
    {
     "name": "stdout",
     "output_type": "stream",
     "text": [
      "[2.49443826 2.86744176 2.94392029 1.69967317]\n",
      "[1.11803399 1.47901995 2.23606798]\n"
     ]
    }
   ],
   "source": [
    "print(np.std(b, axis = 0)) # along the column\n",
    "print(np.std(b, axis = 1)) # along the Row"
   ]
  },
  {
   "cell_type": "code",
   "execution_count": 27,
   "id": "18f9dda3",
   "metadata": {},
   "outputs": [
    {
     "name": "stdout",
     "output_type": "stream",
     "text": [
      "6.743055555555555\n"
     ]
    }
   ],
   "source": [
    "var = np.std(b) # variance \n",
    "print(var**2)"
   ]
  },
  {
   "cell_type": "code",
   "execution_count": 28,
   "id": "0c0a2bf3",
   "metadata": {},
   "outputs": [
    {
     "name": "stdout",
     "output_type": "stream",
     "text": [
      "6.743055555555556\n"
     ]
    }
   ],
   "source": [
    "# Variance:\n",
    "\n",
    "print(np.var(b)) # overall variance:\n"
   ]
  },
  {
   "cell_type": "code",
   "execution_count": 29,
   "id": "29593e55",
   "metadata": {},
   "outputs": [
    {
     "name": "stdout",
     "output_type": "stream",
     "text": [
      "[6.22222222 8.22222222 8.66666667 2.88888889]\n",
      "[1.25   2.1875 5.    ]\n"
     ]
    }
   ],
   "source": [
    "print(np.var(b, axis = 0)) # along the column\n",
    "print(np.var(b, axis = 1)) # along the Row"
   ]
  },
  {
   "cell_type": "code",
   "execution_count": 30,
   "id": "4fd555e7",
   "metadata": {},
   "outputs": [
    {
     "name": "stdout",
     "output_type": "stream",
     "text": [
      "5.0\n"
     ]
    }
   ],
   "source": [
    "# normal average:\n",
    "b1 = np.array([5,9,7,2,6,4,3,5,4])\n",
    "print(np.average(b1)) # overall normal average:"
   ]
  },
  {
   "cell_type": "code",
   "execution_count": 31,
   "id": "caf48785",
   "metadata": {},
   "outputs": [
    {
     "name": "stdout",
     "output_type": "stream",
     "text": [
      "[0.25 0.16 0.14 0.5  0.7  0.2  0.1  0.4  0.26]\n"
     ]
    }
   ],
   "source": [
    "# average with weights:\n",
    "\n",
    "w = np.array([0.25, 0.16, 0.14, 0.5, 0.7, 0.2, 0.1, 0.4, 0.26])\n",
    "print(w)"
   ]
  },
  {
   "cell_type": "code",
   "execution_count": 32,
   "id": "d5b323d8",
   "metadata": {},
   "outputs": [
    {
     "name": "stdout",
     "output_type": "stream",
     "text": [
      "4.800738007380073\n"
     ]
    }
   ],
   "source": [
    "print(np.average(b1, weights = w))"
   ]
  },
  {
   "cell_type": "code",
   "execution_count": 33,
   "id": "5a46d83f",
   "metadata": {},
   "outputs": [
    {
     "name": "stdout",
     "output_type": "stream",
     "text": [
      "[5 9 7 2 6 4 3 5 4]\n",
      "2.4\n",
      "2.16\n",
      "2.48\n"
     ]
    }
   ],
   "source": [
    "# percentile:\n",
    "print(b1) # printing the array\n",
    "print(np.percentile(b1, 5, 0))\n",
    "print(np.percentile(b1, 2, 0))\n",
    "print(np.percentile(b1, 6, 0))"
   ]
  },
  {
   "cell_type": "code",
   "execution_count": 34,
   "id": "6419f687",
   "metadata": {},
   "outputs": [
    {
     "name": "stdout",
     "output_type": "stream",
     "text": [
      "[[1 2 3 4]\n",
      " [5 9 8 7]\n",
      " [7 5 1 3]]\n"
     ]
    }
   ],
   "source": [
    "# peak to peek = Maxvalue - minvalue:\n",
    "\n",
    "print(b)"
   ]
  },
  {
   "cell_type": "code",
   "execution_count": 35,
   "id": "55812226",
   "metadata": {},
   "outputs": [
    {
     "name": "stdout",
     "output_type": "stream",
     "text": [
      "[5 9 7 2 6 4 3 5 4]\n"
     ]
    }
   ],
   "source": [
    "print(b1)"
   ]
  },
  {
   "cell_type": "code",
   "execution_count": 36,
   "id": "62b501d7",
   "metadata": {},
   "outputs": [
    {
     "name": "stdout",
     "output_type": "stream",
     "text": [
      "7\n",
      "[3 4 6]\n",
      "[6 7 7 4]\n",
      "7\n"
     ]
    }
   ],
   "source": [
    "print(np.ptp(b1, 0))\n",
    "print(np.ptp(b, 1))\n",
    "print(np.ptp(b, 0))\n",
    "print(np.ptp(b1, 0))\n",
    "\n",
    "\n"
   ]
  },
  {
   "cell_type": "code",
   "execution_count": 37,
   "id": "7f9df98a",
   "metadata": {},
   "outputs": [
    {
     "name": "stdout",
     "output_type": "stream",
     "text": [
      "[[1 2 3]\n",
      " [5 6 7]]\n"
     ]
    }
   ],
   "source": [
    "\n",
    "# rashape:\n",
    "\n",
    "x = np.array([[1,2,3], [5,6, 7]])\n",
    "print(x)\n"
   ]
  },
  {
   "cell_type": "markdown",
   "id": "7edba7cb",
   "metadata": {},
   "source": [
    "# Slicing:"
   ]
  },
  {
   "cell_type": "code",
   "execution_count": 38,
   "id": "0c26670b",
   "metadata": {},
   "outputs": [
    {
     "name": "stdout",
     "output_type": "stream",
     "text": [
      "[[23 25 27 29]\n",
      " [43 45 47 49]\n",
      " [62 66 68 70]]\n"
     ]
    }
   ],
   "source": [
    "# 2D array:\n",
    "\n",
    "e = np.array([[23,25,27,29], [43,45,47,49], [62,66,68,70]])\n",
    "print(e)"
   ]
  },
  {
   "cell_type": "code",
   "execution_count": 39,
   "id": "5b335315",
   "metadata": {},
   "outputs": [
    {
     "name": "stdout",
     "output_type": "stream",
     "text": [
      "[[23 25 27 29]\n",
      " [43 45 47 49]\n",
      " [62 66 68 70]] \n",
      "\n"
     ]
    }
   ],
   "source": [
    "print(e, \"\\n\")"
   ]
  },
  {
   "cell_type": "code",
   "execution_count": 40,
   "id": "249e90e9",
   "metadata": {},
   "outputs": [
    {
     "name": "stdout",
     "output_type": "stream",
     "text": [
      "[[43 45 47 49]\n",
      " [62 66 68 70]]\n"
     ]
    }
   ],
   "source": [
    "print(e[1:3]) # Print 1th row to 2th row"
   ]
  },
  {
   "cell_type": "code",
   "execution_count": 41,
   "id": "432c1903",
   "metadata": {},
   "outputs": [
    {
     "name": "stdout",
     "output_type": "stream",
     "text": [
      "29\n"
     ]
    }
   ],
   "source": [
    "print(e[0, 3]) # print 0th row and 3rd value"
   ]
  },
  {
   "cell_type": "code",
   "execution_count": 42,
   "id": "9549033c",
   "metadata": {},
   "outputs": [
    {
     "name": "stdout",
     "output_type": "stream",
     "text": [
      "70\n"
     ]
    }
   ],
   "source": [
    "print(e[2,3]) # printing in 2th 3rd value"
   ]
  },
  {
   "cell_type": "code",
   "execution_count": 43,
   "id": "51ed4ddc",
   "metadata": {},
   "outputs": [
    {
     "name": "stdout",
     "output_type": "stream",
     "text": [
      "[25 45]\n"
     ]
    }
   ],
   "source": [
    "print(e[0:2, 1]) # from 0th row to the 1st row on the 1st column values"
   ]
  },
  {
   "cell_type": "code",
   "execution_count": 44,
   "id": "19c92c52",
   "metadata": {},
   "outputs": [
    {
     "name": "stdout",
     "output_type": "stream",
     "text": [
      "[62 66 68 70]\n"
     ]
    }
   ],
   "source": [
    "print(e[-1]) # printing the -1th index"
   ]
  },
  {
   "cell_type": "code",
   "execution_count": 45,
   "id": "69b63b61",
   "metadata": {},
   "outputs": [
    {
     "name": "stdout",
     "output_type": "stream",
     "text": [
      "[62 66]\n"
     ]
    }
   ],
   "source": [
    " print(e[-1, 0:2]) # in -1th row oth column to the 1th column values"
   ]
  },
  {
   "cell_type": "markdown",
   "id": "3a834533",
   "metadata": {},
   "source": [
    "#  Stacking"
   ]
  },
  {
   "cell_type": "code",
   "execution_count": 46,
   "id": "7913de7c",
   "metadata": {},
   "outputs": [
    {
     "name": "stdout",
     "output_type": "stream",
     "text": [
      "[[ 0  1  2  3]\n",
      " [ 4  5  6  7]\n",
      " [ 8  9 10 11]] \n",
      "\n",
      "\n",
      " [[12 13 14 15]\n",
      " [16 17 18 19]\n",
      " [20 21 22 23]]\n"
     ]
    }
   ],
   "source": [
    "h1 = np.array([[0,1,2,3],[4,5,6,7],[8,9,10,11]])\n",
    "h2 = np.array([[12,13,14,15],[16,17,18,19],[20,21,22,23]])\n",
    "print(h1, \"\\n\\n\\n\", h2)"
   ]
  },
  {
   "cell_type": "code",
   "execution_count": 47,
   "id": "c176aaf4",
   "metadata": {},
   "outputs": [
    {
     "name": "stdout",
     "output_type": "stream",
     "text": [
      "[[ 0  1  2  3 12 13 14 15]\n",
      " [ 4  5  6  7 16 17 18 19]\n",
      " [ 8  9 10 11 20 21 22 23]] \n",
      "\n",
      "\n",
      "\n",
      "[[12 13 14 15  0  1  2  3]\n",
      " [16 17 18 19  4  5  6  7]\n",
      " [20 21 22 23  8  9 10 11]]\n"
     ]
    }
   ],
   "source": [
    "# Horizontal Stacking:\n",
    "\n",
    "print(np.hstack((h1, h2)), \"\\n\\n\\n\") # here h1 rows are stacked on the h2's rows \n",
    "print(np.hstack((h2, h1))) # # here h2 columns are stacked on the h1's column "
   ]
  },
  {
   "cell_type": "code",
   "execution_count": 48,
   "id": "8ee07059",
   "metadata": {},
   "outputs": [
    {
     "name": "stdout",
     "output_type": "stream",
     "text": [
      "[[ 0  1  2  3]\n",
      " [ 4  5  6  7]\n",
      " [ 8  9 10 11]\n",
      " [12 13 14 15]\n",
      " [16 17 18 19]\n",
      " [20 21 22 23]] \n",
      "\n",
      "\n",
      "\n",
      "[[12 13 14 15]\n",
      " [16 17 18 19]\n",
      " [20 21 22 23]\n",
      " [ 0  1  2  3]\n",
      " [ 4  5  6  7]\n",
      " [ 8  9 10 11]]\n"
     ]
    }
   ],
   "source": [
    "# Vertical Stacking:\n",
    "\n",
    "print(np.vstack((h1, h2)), \"\\n\\n\\n\")  # here h1 columns are stacked on the h2's column \n",
    "print(np.vstack((h2, h1))) # here h2 columns are stacked on the h1's column "
   ]
  },
  {
   "cell_type": "markdown",
   "id": "e06f21de",
   "metadata": {},
   "source": [
    "# Random Number generator:"
   ]
  },
  {
   "cell_type": "code",
   "execution_count": 49,
   "id": "785a037e",
   "metadata": {},
   "outputs": [
    {
     "data": {
      "text/plain": [
       "54"
      ]
     },
     "execution_count": 49,
     "metadata": {},
     "output_type": "execute_result"
    }
   ],
   "source": [
    "from numpy import random\n",
    "\n",
    "# print integer random nomber\n",
    "a = random.randint(100)\n",
    "a"
   ]
  },
  {
   "cell_type": "code",
   "execution_count": 52,
   "id": "bb7dba14",
   "metadata": {},
   "outputs": [
    {
     "name": "stdout",
     "output_type": "stream",
     "text": [
      "0.1950548244556054\n"
     ]
    }
   ],
   "source": [
    "# print float random nomber\n",
    "a1 = random.rand()\n",
    "print(a1)"
   ]
  },
  {
   "cell_type": "code",
   "execution_count": 53,
   "id": "115e1711",
   "metadata": {},
   "outputs": [
    {
     "name": "stdout",
     "output_type": "stream",
     "text": [
      "[0.18301335 0.51460946 0.22830861 0.89498978 0.05774455 0.20588501\n",
      " 0.73726353 0.79542095 0.92335053 0.34197371 0.26483849 0.96827533\n",
      " 0.51549299 0.69205933 0.7939604  0.10394948 0.77115532 0.69473743\n",
      " 0.15683207 0.97651862 0.11434532 0.87429268 0.59029719 0.21335095\n",
      " 0.91152711 0.14046113 0.32573913 0.3400446  0.93663452 0.43775671\n",
      " 0.729039   0.94167916 0.61331634 0.62447129 0.58689385 0.75731649\n",
      " 0.4963074  0.51445615 0.25762855 0.931703   0.95801041 0.43197836\n",
      " 0.66765478 0.30259091 0.26953189 0.12979347 0.37691462 0.0668516\n",
      " 0.16563902 0.99418183 0.09725655 0.26195753 0.75289086 0.32172857\n",
      " 0.09299772 0.02244208 0.85789596 0.92374935 0.2985085  0.49442168\n",
      " 0.40530805 0.10561144 0.72828248 0.8103402  0.12088192 0.51064594\n",
      " 0.65279467 0.77745999 0.12287318 0.18135452 0.52148702 0.3848716\n",
      " 0.89541334 0.52562196 0.21891732 0.54801631 0.79408547 0.90474637\n",
      " 0.91583218 0.73872023 0.54580254 0.04358659 0.92600144 0.83585433\n",
      " 0.40871237 0.06188984 0.08965664 0.40336898 0.18537363 0.99178066\n",
      " 0.3759685  0.13026439 0.20608642 0.59559389 0.54279694 0.52424373\n",
      " 0.61196243 0.05843161 0.79019871 0.67931398]\n"
     ]
    }
   ],
   "source": [
    "x1 = random.rand(100) # 0 to 100 random numbers\n",
    "print(x1)"
   ]
  },
  {
   "cell_type": "markdown",
   "id": "7bd27ede",
   "metadata": {},
   "source": [
    "# Matrix in NumPy:"
   ]
  },
  {
   "cell_type": "code",
   "execution_count": null,
   "id": "a110400a",
   "metadata": {},
   "outputs": [],
   "source": [
    "# to create the matrix in array:\n"
   ]
  },
  {
   "cell_type": "markdown",
   "id": "5894806d",
   "metadata": {},
   "source": [
    "# Percentile & Interquartile in NumPy:"
   ]
  },
  {
   "cell_type": "code",
   "execution_count": null,
   "id": "8a1512bd",
   "metadata": {},
   "outputs": [],
   "source": []
  }
 ],
 "metadata": {
  "kernelspec": {
   "display_name": "Python 3 (ipykernel)",
   "language": "python",
   "name": "python3"
  },
  "language_info": {
   "codemirror_mode": {
    "name": "ipython",
    "version": 3
   },
   "file_extension": ".py",
   "mimetype": "text/x-python",
   "name": "python",
   "nbconvert_exporter": "python",
   "pygments_lexer": "ipython3",
   "version": "3.9.12"
  }
 },
 "nbformat": 4,
 "nbformat_minor": 5
}

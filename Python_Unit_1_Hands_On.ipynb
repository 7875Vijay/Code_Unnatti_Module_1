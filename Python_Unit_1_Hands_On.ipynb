{
 "cells": [
  {
   "cell_type": "raw",
   "id": "0d0c9d11",
   "metadata": {},
   "source": [
    "\"\"\"\n",
    "Module :  1\n",
    "Session:  2\n",
    "Date   :  17/08/2022\n",
    "\n",
    "\"\"\""
   ]
  },
  {
   "cell_type": "markdown",
   "id": "b50f645d",
   "metadata": {},
   "source": [
    "## Multiple Assignment of String:"
   ]
  },
  {
   "cell_type": "code",
   "execution_count": 1,
   "id": "e426cc49",
   "metadata": {},
   "outputs": [
    {
     "name": "stdout",
     "output_type": "stream",
     "text": [
      "2739598092592 2739598092592 2739598092592\n"
     ]
    }
   ],
   "source": [
    "# Allising:\n",
    "a = b = c = 1\n",
    "print(id(a), id(b), id(c))  # id used to print the memory location of the referance variable:\n",
    "\n",
    "# a,b,c referes to the same memory locations so the address of the all variable will same."
   ]
  },
  {
   "cell_type": "markdown",
   "id": "6c5716fe",
   "metadata": {},
   "source": [
    "## String:"
   ]
  },
  {
   "cell_type": "code",
   "execution_count": 2,
   "id": "72a52c98",
   "metadata": {},
   "outputs": [
    {
     "name": "stdout",
     "output_type": "stream",
     "text": [
      "Parul University\n"
     ]
    }
   ],
   "source": [
    "string_1 = \"Parul University\"\n",
    "print(string_1)"
   ]
  },
  {
   "cell_type": "code",
   "execution_count": 3,
   "id": "0093b8d1",
   "metadata": {},
   "outputs": [
    {
     "data": {
      "text/plain": [
       "'P'"
      ]
     },
     "execution_count": 3,
     "metadata": {},
     "output_type": "execute_result"
    }
   ],
   "source": [
    "string_1[0]"
   ]
  },
  {
   "cell_type": "code",
   "execution_count": 4,
   "id": "ab6a3a69",
   "metadata": {},
   "outputs": [
    {
     "data": {
      "text/plain": [
       "' '"
      ]
     },
     "execution_count": 4,
     "metadata": {},
     "output_type": "execute_result"
    }
   ],
   "source": [
    "string_1[5]"
   ]
  },
  {
   "cell_type": "code",
   "execution_count": 5,
   "id": "d8e7e119",
   "metadata": {},
   "outputs": [
    {
     "data": {
      "text/plain": [
       "'U'"
      ]
     },
     "execution_count": 5,
     "metadata": {},
     "output_type": "execute_result"
    }
   ],
   "source": [
    "string_1[6] #positive index"
   ]
  },
  {
   "cell_type": "code",
   "execution_count": 6,
   "id": "6eae1731",
   "metadata": {},
   "outputs": [
    {
     "data": {
      "text/plain": [
       "'s'"
      ]
     },
     "execution_count": 6,
     "metadata": {},
     "output_type": "execute_result"
    }
   ],
   "source": [
    "string_1[-4] #negative index"
   ]
  },
  {
   "cell_type": "code",
   "execution_count": 7,
   "id": "f2f2b727",
   "metadata": {},
   "outputs": [
    {
     "data": {
      "text/plain": [
       "'Parul'"
      ]
     },
     "execution_count": 7,
     "metadata": {},
     "output_type": "execute_result"
    }
   ],
   "source": [
    "string_1[:5]"
   ]
  },
  {
   "cell_type": "code",
   "execution_count": 8,
   "id": "fe6d05be",
   "metadata": {},
   "outputs": [
    {
     "data": {
      "text/plain": [
       "' University'"
      ]
     },
     "execution_count": 8,
     "metadata": {},
     "output_type": "execute_result"
    }
   ],
   "source": [
    "string_1[5:]"
   ]
  },
  {
   "cell_type": "code",
   "execution_count": 9,
   "id": "2cabea1e",
   "metadata": {},
   "outputs": [
    {
     "data": {
      "text/plain": [
       "'arul Un'"
      ]
     },
     "execution_count": 9,
     "metadata": {},
     "output_type": "execute_result"
    }
   ],
   "source": [
    "string_1[1:8]"
   ]
  },
  {
   "cell_type": "code",
   "execution_count": 10,
   "id": "8bc172f3",
   "metadata": {},
   "outputs": [
    {
     "data": {
      "text/plain": [
       "'arul University'"
      ]
     },
     "execution_count": 10,
     "metadata": {},
     "output_type": "execute_result"
    }
   ],
   "source": [
    "string_1[1::]"
   ]
  },
  {
   "cell_type": "code",
   "execution_count": 11,
   "id": "00395410",
   "metadata": {},
   "outputs": [
    {
     "data": {
      "text/plain": [
       "'ytisrevinU luraP'"
      ]
     },
     "execution_count": 11,
     "metadata": {},
     "output_type": "execute_result"
    }
   ],
   "source": [
    "string_1[::-1]"
   ]
  },
  {
   "cell_type": "code",
   "execution_count": 12,
   "id": "4ab8bb59",
   "metadata": {},
   "outputs": [
    {
     "data": {
      "text/plain": [
       "'Parul University'"
      ]
     },
     "execution_count": 12,
     "metadata": {},
     "output_type": "execute_result"
    }
   ],
   "source": [
    "string_1[::1]"
   ]
  },
  {
   "cell_type": "code",
   "execution_count": 13,
   "id": "fcadceab",
   "metadata": {},
   "outputs": [
    {
     "data": {
      "text/plain": [
       "'a'"
      ]
     },
     "execution_count": 13,
     "metadata": {},
     "output_type": "execute_result"
    }
   ],
   "source": [
    "string_1[1:2:3]"
   ]
  },
  {
   "cell_type": "code",
   "execution_count": 14,
   "id": "94c262dc",
   "metadata": {},
   "outputs": [
    {
     "data": {
      "text/plain": [
       "'Parul University'"
      ]
     },
     "execution_count": 14,
     "metadata": {},
     "output_type": "execute_result"
    }
   ],
   "source": [
    "string_1"
   ]
  },
  {
   "cell_type": "code",
   "execution_count": 15,
   "id": "e9f838f0",
   "metadata": {},
   "outputs": [
    {
     "data": {
      "text/plain": [
       "'Parul University'"
      ]
     },
     "execution_count": 15,
     "metadata": {},
     "output_type": "execute_result"
    }
   ],
   "source": [
    "string_1[-len(string_1)-1:] #accessing the whole string with negative indexing."
   ]
  },
  {
   "cell_type": "code",
   "execution_count": 16,
   "id": "f2001e22",
   "metadata": {},
   "outputs": [
    {
     "data": {
      "text/plain": [
       "'rul Uni'"
      ]
     },
     "execution_count": 16,
     "metadata": {},
     "output_type": "execute_result"
    }
   ],
   "source": [
    "string_1[2:9]"
   ]
  },
  {
   "cell_type": "code",
   "execution_count": 17,
   "id": "2aeadb85",
   "metadata": {},
   "outputs": [
    {
     "data": {
      "text/plain": [
       "' Univ'"
      ]
     },
     "execution_count": 17,
     "metadata": {},
     "output_type": "execute_result"
    }
   ],
   "source": [
    "string_1[5:10] # in the 5th position we can see there is a white space is also included at slising of string"
   ]
  },
  {
   "cell_type": "markdown",
   "id": "51cd9a85",
   "metadata": {},
   "source": [
    "## Deleting and updating string:"
   ]
  },
  {
   "cell_type": "code",
   "execution_count": 18,
   "id": "241b728f",
   "metadata": {},
   "outputs": [
    {
     "data": {
      "text/plain": [
       "'Python in warst Language'"
      ]
     },
     "execution_count": 18,
     "metadata": {},
     "output_type": "execute_result"
    }
   ],
   "source": [
    "string2 = \"Python is a programming language\"\n",
    "# string2[2] = 'A' we cant change the characters of the string\n",
    "\n",
    "string2 = \"Python in warst Language\" # we can override the string\n",
    "string2"
   ]
  },
  {
   "cell_type": "markdown",
   "id": "8d1b4262",
   "metadata": {},
   "source": [
    "## String Format:"
   ]
  },
  {
   "cell_type": "code",
   "execution_count": 19,
   "id": "206f5d9a",
   "metadata": {},
   "outputs": [
    {
     "data": {
      "text/plain": [
       "'Python programming Language'"
      ]
     },
     "execution_count": 19,
     "metadata": {},
     "output_type": "execute_result"
    }
   ],
   "source": [
    "#formating is used for the arrange the sequence of the string \n",
    "#{} curly bresess helps to arrange the sequence passed in the formated method\n",
    "s = \"{1} {0} {2}\".format(\"programming\", \"Python\", \"Language\")\n",
    "s"
   ]
  },
  {
   "cell_type": "code",
   "execution_count": 20,
   "id": "997231f4",
   "metadata": {},
   "outputs": [
    {
     "data": {
      "text/plain": [
       "'Language Python programming'"
      ]
     },
     "execution_count": 20,
     "metadata": {},
     "output_type": "execute_result"
    }
   ],
   "source": [
    "s1 = \"{2} {1} {0}\".format(\"programming\", \"Python\", \"Language\")\n",
    "s1"
   ]
  },
  {
   "cell_type": "code",
   "execution_count": 21,
   "id": "ea810ce6",
   "metadata": {},
   "outputs": [
    {
     "data": {
      "text/plain": [
       "'programming programming Language'"
      ]
     },
     "execution_count": 21,
     "metadata": {},
     "output_type": "execute_result"
    }
   ],
   "source": [
    "s3 = \"{0} {0} {2}\".format(\"programming\", \"Python\", \"Language\")\n",
    "s3"
   ]
  },
  {
   "cell_type": "code",
   "execution_count": 22,
   "id": "e26dcce4",
   "metadata": {},
   "outputs": [
    {
     "data": {
      "text/plain": [
       "'programming Python Language'"
      ]
     },
     "execution_count": 22,
     "metadata": {},
     "output_type": "execute_result"
    }
   ],
   "source": [
    "s4 = \"{} {} {}\".format(\"programming\", \"Python\", \"Language\")\n",
    "s4 # printing all elements as it is."
   ]
  },
  {
   "cell_type": "code",
   "execution_count": 23,
   "id": "88530096",
   "metadata": {},
   "outputs": [
    {
     "data": {
      "text/plain": [
       "'Python programming Language'"
      ]
     },
     "execution_count": 23,
     "metadata": {},
     "output_type": "execute_result"
    }
   ],
   "source": [
    "s5 = \"{1} {0} {2}\".format(\"programming\", \"Python\", \"Language\")\n",
    "s5"
   ]
  },
  {
   "cell_type": "code",
   "execution_count": 24,
   "id": "c6852f38",
   "metadata": {},
   "outputs": [
    {
     "data": {
      "text/plain": [
       "'Language programming Python'"
      ]
     },
     "execution_count": 24,
     "metadata": {},
     "output_type": "execute_result"
    }
   ],
   "source": [
    "s6 = \"{2} {0} {1}\".format(\"programming\", \"Python\", \"Language\") #Positional Formatting\n",
    "s6"
   ]
  },
  {
   "cell_type": "code",
   "execution_count": 25,
   "id": "19228534",
   "metadata": {},
   "outputs": [
    {
     "data": {
      "text/plain": [
       "'Python programming Language'"
      ]
     },
     "execution_count": 25,
     "metadata": {},
     "output_type": "execute_result"
    }
   ],
   "source": [
    "s7 = \"{0} {1} {2}\".format( \"Python\", \"programming\", \"Language\") \n",
    "s7"
   ]
  },
  {
   "cell_type": "markdown",
   "id": "3a6b6b31",
   "metadata": {},
   "source": [
    "## keyword Formatting:"
   ]
  },
  {
   "cell_type": "code",
   "execution_count": 26,
   "id": "26779503",
   "metadata": {},
   "outputs": [
    {
     "data": {
      "text/plain": [
       "'Python Programming Language'"
      ]
     },
     "execution_count": 26,
     "metadata": {},
     "output_type": "execute_result"
    }
   ],
   "source": [
    "# keword formatting is used the keyword to arrange the sequence by using the keyword of the string:\n",
    "\n",
    "s8 = \"{a} {b} {c}\".format(a = \"Python\", b = \"Programming\", c=\"Language\")\n",
    "s8"
   ]
  },
  {
   "cell_type": "code",
   "execution_count": 27,
   "id": "7e252b35",
   "metadata": {},
   "outputs": [
    {
     "data": {
      "text/plain": [
       "'Language Programming Python'"
      ]
     },
     "execution_count": 27,
     "metadata": {},
     "output_type": "execute_result"
    }
   ],
   "source": [
    "s9 = \"{c} {b} {a}\".format(a = \"Python\", b = \"Programming\", c=\"Language\")\n",
    "s9"
   ]
  },
  {
   "cell_type": "code",
   "execution_count": 28,
   "id": "92cc2d32",
   "metadata": {},
   "outputs": [
    {
     "data": {
      "text/plain": [
       "'Language Programming Python'"
      ]
     },
     "execution_count": 28,
     "metadata": {},
     "output_type": "execute_result"
    }
   ],
   "source": [
    "s10 = \"{a} {b} {c}\".format(c = \"Python\", b = \"Programming\", a=\"Language\")\n",
    "s10"
   ]
  },
  {
   "cell_type": "code",
   "execution_count": 29,
   "id": "34cd1f11",
   "metadata": {},
   "outputs": [
    {
     "data": {
      "text/plain": [
       "'Python Language Programming'"
      ]
     },
     "execution_count": 29,
     "metadata": {},
     "output_type": "execute_result"
    }
   ],
   "source": [
    "s11 = \"{a} {b} {c}\".format(a = \"Python\", c = \"Programming\", b=\"Language\")\n",
    "s11"
   ]
  },
  {
   "cell_type": "code",
   "execution_count": 30,
   "id": "98aa4f0a",
   "metadata": {},
   "outputs": [
    {
     "data": {
      "text/plain": [
       "'Python Programming Language'"
      ]
     },
     "execution_count": 30,
     "metadata": {},
     "output_type": "execute_result"
    }
   ],
   "source": [
    "s12 = \"{a} {b} {c}\".format(a = \"Python\", b = \"Programming\", c=\"Language\")\n",
    "s12"
   ]
  },
  {
   "cell_type": "code",
   "execution_count": 31,
   "id": "9a5d225a",
   "metadata": {},
   "outputs": [
    {
     "data": {
      "text/plain": [
       "'Python Python Language'"
      ]
     },
     "execution_count": 31,
     "metadata": {},
     "output_type": "execute_result"
    }
   ],
   "source": [
    "s13 = \"{a} {a} {c}\".format(a = \"Python\", b = \"Programming\", c=\"Language\")\n",
    "s13"
   ]
  },
  {
   "cell_type": "code",
   "execution_count": 32,
   "id": "b1aeefa3",
   "metadata": {},
   "outputs": [
    {
     "data": {
      "text/plain": [
       "'Programming Language Python'"
      ]
     },
     "execution_count": 32,
     "metadata": {},
     "output_type": "execute_result"
    }
   ],
   "source": [
    "s14 = \"{a} {b} {c}\".format(c = \"Python\", a = \"Programming\", b=\"Language\")\n",
    "s14"
   ]
  },
  {
   "cell_type": "markdown",
   "id": "617390dc",
   "metadata": {},
   "source": [
    "## Python List:"
   ]
  },
  {
   "cell_type": "code",
   "execution_count": 33,
   "id": "2d79cc2f",
   "metadata": {},
   "outputs": [
    {
     "name": "stdout",
     "output_type": "stream",
     "text": [
      "['abc', 225, 'abc', 225]\n",
      "['vijay', 225, 20.5, 'vikrant', 'abc', 225]\n"
     ]
    }
   ],
   "source": [
    "l1 = [\"vijay\", 225, 20.5, \"vikrant\"]\n",
    "l2 = [\"abc\", 225]\n",
    "\n",
    "# Raplication operation:\n",
    "print(l2*2)\n",
    "\n",
    "# Concatination of two string:\n",
    "print(l1+l2)"
   ]
  },
  {
   "cell_type": "code",
   "execution_count": null,
   "id": "914aae21",
   "metadata": {},
   "outputs": [],
   "source": [
    "# Taking the input in list:\n",
    "\n",
    "l3 = list(map(int,input().split()))\n",
    "print(l3)"
   ]
  },
  {
   "cell_type": "markdown",
   "id": "a031e6b7",
   "metadata": {},
   "source": [
    "## Taking the Input from user:"
   ]
  },
  {
   "cell_type": "code",
   "execution_count": null,
   "id": "75ee6d52",
   "metadata": {},
   "outputs": [],
   "source": [
    "n = input(\"Enter the String: \") #by default input function takes an input as string\n",
    "print(n)"
   ]
  },
  {
   "cell_type": "code",
   "execution_count": null,
   "id": "2b7b267f",
   "metadata": {},
   "outputs": [],
   "source": [
    "n = int(input(\"Enter a integer number: \"))\n",
    "print(n)"
   ]
  },
  {
   "cell_type": "code",
   "execution_count": null,
   "id": "242f3906",
   "metadata": {},
   "outputs": [],
   "source": [
    "n = float(input(\"Enter the float value: \"))\n",
    "print(n);"
   ]
  },
  {
   "cell_type": "code",
   "execution_count": null,
   "id": "7b82056b",
   "metadata": {},
   "outputs": [],
   "source": [
    "# nested list:\n",
    "\n",
    "l4 = [56,69,\"vijay\", 5465, 5.36, \"vikrant\", l3]\n",
    "l4\n"
   ]
  },
  {
   "cell_type": "code",
   "execution_count": null,
   "id": "abf88acd",
   "metadata": {},
   "outputs": [],
   "source": [
    "# split() function:\n",
    "str1 = input(\"Enter the numbers\")\n",
    "print(str1.split())"
   ]
  },
  {
   "cell_type": "code",
   "execution_count": null,
   "id": "70545a47",
   "metadata": {},
   "outputs": [],
   "source": [
    "str1 = input(\"Enter the numbers\")\n",
    "print(str1.split(\"45\"))"
   ]
  },
  {
   "cell_type": "markdown",
   "id": "b262d9e2",
   "metadata": {},
   "source": [
    "## Tuples:"
   ]
  },
  {
   "cell_type": "code",
   "execution_count": null,
   "id": "3f2d00c3",
   "metadata": {},
   "outputs": [],
   "source": [
    "t1 = (\"Vijay\", 25, 2.36, \"Vikrant\")\n",
    "# t1[2] = 236;  # 'tuple' object does not support item assignment\n",
    "\n",
    "# Produced an error: we cant update the tuple;\n",
    "# but in list we can change.\n"
   ]
  },
  {
   "cell_type": "markdown",
   "id": "78fa8876",
   "metadata": {},
   "source": [
    "## Dictionary:"
   ]
  },
  {
   "cell_type": "code",
   "execution_count": null,
   "id": "ef6b09b9",
   "metadata": {},
   "outputs": [],
   "source": [
    "d1 = {\"A\":25, \"B\":50, \"c\":35}\n",
    "d1"
   ]
  },
  {
   "cell_type": "code",
   "execution_count": 2,
   "id": "36165a7f",
   "metadata": {},
   "outputs": [
    {
     "name": "stdout",
     "output_type": "stream",
     "text": [
      "Reset css and font defaults in:\n",
      "C:\\Users\\VIJAY PATIL\\.jupyter\\custom &\n",
      "C:\\Users\\VIJAY PATIL\\AppData\\Roaming\\jupyter\\nbextensions\n"
     ]
    }
   ],
   "source": [
    "! jt -r"
   ]
  },
  {
   "cell_type": "code",
   "execution_count": 6,
   "id": "ee78f56b",
   "metadata": {},
   "outputs": [
    {
     "name": "stderr",
     "output_type": "stream",
     "text": [
      "usage: jt [-h] [-l] [-t THEME] [-f MONOFONT] [-fs MONOSIZE] [-nf NBFONT]\n",
      "          [-nfs NBFONTSIZE] [-tf TCFONT] [-tfs TCFONTSIZE] [-dfs DFFONTSIZE]\n",
      "          [-ofs OUTFONTSIZE] [-mathfs MATHFONTSIZE] [-m MARGINS]\n",
      "          [-cursw CURSORWIDTH] [-cursc CURSORCOLOR] [-cellw CELLWIDTH]\n",
      "          [-lineh LINEHEIGHT] [-altp] [-altmd] [-altout] [-P] [-T] [-N] [-kl]\n",
      "          [-vim] [-r] [-dfonts]\n",
      "jt: error: argument -t/--theme: expected one argument\n"
     ]
    }
   ],
   "source": [
    "!jt -t -T -N"
   ]
  },
  {
   "cell_type": "code",
   "execution_count": null,
   "id": "bcee4c1c",
   "metadata": {},
   "outputs": [],
   "source": []
  }
 ],
 "metadata": {
  "kernelspec": {
   "display_name": "Python 3 (ipykernel)",
   "language": "python",
   "name": "python3"
  },
  "language_info": {
   "codemirror_mode": {
    "name": "ipython",
    "version": 3
   },
   "file_extension": ".py",
   "mimetype": "text/x-python",
   "name": "python",
   "nbconvert_exporter": "python",
   "pygments_lexer": "ipython3",
   "version": "3.9.12"
  }
 },
 "nbformat": 4,
 "nbformat_minor": 5
}
